{
 "cells": [
  {
   "cell_type": "markdown",
   "metadata": {
    "id": "EZOYZR_OvlsA"
   },
   "source": [
    "### Explainability analysis with SHAP for selected features.\n",
    "This script uses the features selected from the classification pipeline to train a Linear SVM classifier and analyze model explainability\n",
    "via SHAP values."
   ]
  },
  {
   "cell_type": "code",
   "execution_count": null,
   "metadata": {},
   "outputs": [],
   "source": [
    "# Imports\n",
    "import pandas as pd\n",
    "import numpy as np\n",
    "import matplotlib.pyplot as plt\n",
    "import seaborn as sns\n",
    "\n",
    "from sklearn.preprocessing import StandardScaler\n",
    "from sklearn.svm import LinearSVC\n",
    "from sklearn.model_selection import LeaveOneOut, cross_val_score\n",
    "from sklearn.calibration import CalibratedClassifierCV\n",
    "from numpy import mean, std\n",
    "\n",
    "import shap\n",
    "from matplotlib.colors import ListedColormap"
   ]
  },
  {
   "cell_type": "code",
   "execution_count": null,
   "metadata": {
    "id": "QfIsbTjPR2KE"
   },
   "outputs": [],
   "source": [
    "# Load data\n",
    "# ----------------------------\n",
    "# Path to the Excel file (update before running)\n",
    "path_to_excel_file = \"path/to/data.xlsx\"\n",
    "\n",
    "# Read dataset\n",
    "df = pd.read_excel(path_to_excel_file)\n",
    "\n",
    "# Keep only diagnostic groups of interest\n",
    "df = df[df[\"Group\"].isin([2, 3, 4, 5])]"
   ]
  },
  {
   "cell_type": "code",
   "execution_count": null,
   "metadata": {
    "id": "9GuVslyhR2KH"
   },
   "outputs": [],
   "source": [
    "# Define features and labels\n",
    "# ----------------------------\n",
    "X = df.drop(columns=[\"Group\"])\n",
    "y = df[\"Group\"]"
   ]
  },
  {
   "cell_type": "code",
   "execution_count": null,
   "metadata": {},
   "outputs": [],
   "source": [
    "# Features previously selected (from feature selection pipeline)\n",
    "selected_features = [\n",
    "    \"best_feature_1\",\n",
    "    \"best_feature_2\",\n",
    "    \"best_feature_3\",\n",
    "]  # Update with actual feature names\n",
    "X_best = X[selected_features]"
   ]
  },
  {
   "cell_type": "code",
   "execution_count": null,
   "metadata": {
    "id": "bZ6d7ioWR2KH"
   },
   "outputs": [],
   "source": [
    "# Model training and evaluation\n",
    "\n",
    "scaler = StandardScaler()\n",
    "model = LinearSVC(C=0.25)\n",
    "cv = LeaveOneOut()\n",
    "\n",
    "# Scale features\n",
    "X_scaled = scaler.fit_transform(X_best)\n",
    "\n",
    "# Train model and evaluate with LOOCV\n",
    "model.fit(X_scaled, y)\n",
    "scores = cross_val_score(model, X_scaled, y, scoring=\"accuracy\", cv=cv, n_jobs=-1)\n",
    "print(f\"Accuracy: {mean(scores):.4f} ± {std(scores):.4f}\")"
   ]
  },
  {
   "cell_type": "code",
   "execution_count": null,
   "metadata": {},
   "outputs": [],
   "source": [
    "# SHAP Analysis\n",
    "\n",
    "# Calibrate model to output probabilities (needed for SHAP)\n",
    "clf = CalibratedClassifierCV(model, cv=\"prefit\")\n",
    "clf.fit(X_scaled, y)"
   ]
  },
  {
   "cell_type": "code",
   "execution_count": null,
   "metadata": {},
   "outputs": [],
   "source": [
    "# Compute SHAP values using KernelExplainer\n",
    "explainer = shap.KernelExplainer(clf.predict_proba, X_scaled)\n",
    "shap_values = explainer.shap_values(X_scaled)\n",
    "\n",
    "# Define class names (replace with actual labels if needed)\n",
    "class_names = [\"Class 1\", \"Class 2\", \"Class 3\"]\n",
    "\n",
    "shap_features_names = selected_features  # Update with actual feature names if needed"
   ]
  },
  {
   "cell_type": "code",
   "execution_count": null,
   "metadata": {},
   "outputs": [],
   "source": [
    "# Plot SHAP summary (bar plot, all classes)\n",
    "\n",
    "shap.summary_plot(\n",
    "    shap_values,\n",
    "    X_scaled,\n",
    "    plot_type=\"bar\",\n",
    "    class_names=class_names,\n",
    "    feature_names=shap_features_names,\n",
    "    show=False,\n",
    "    max_display=30,\n",
    ")"
   ]
  },
  {
   "cell_type": "code",
   "execution_count": null,
   "metadata": {},
   "outputs": [],
   "source": [
    "fig, ax = plt.gcf(), plt.gca()\n",
    "ax.tick_params(labelsize=12)\n",
    "ax.set_xlabel(\"SHAP value (impact on model output)\", fontsize=12)\n",
    "ax.set_title(\"Feature Importance - Multiclass SVC model\", fontsize=16)\n",
    "\n",
    "plt.savefig(\"shap_summary.png\", bbox_inches=\"tight\", dpi=300)"
   ]
  },
  {
   "cell_type": "code",
   "execution_count": null,
   "metadata": {},
   "outputs": [],
   "source": [
    "# Plot SHAP summary (violin plot, one class vs rest)\n",
    "# ----------------------------\n",
    "shap.summary_plot(\n",
    "    shap_values[0],  # class index 0 = \"Class 1\"\n",
    "    X_scaled,\n",
    "    plot_type=\"violin\",\n",
    "    class_names=class_names,\n",
    "    feature_names=shap_features_names,\n",
    "    max_display=10,\n",
    "    show=False,\n",
    ")\n",
    "\n",
    "fig, ax = plt.gcf(), plt.gca()\n",
    "ax.set_title(\"Feature Importance - Multiclass SVC model, Class 1 vs rest\", fontsize=14)\n",
    "\n",
    "plt.savefig(\"shap_class1.png\", bbox_inches=\"tight\", dpi=300)"
   ]
  }
 ],
 "metadata": {
  "colab": {
   "provenance": []
  },
  "kernelspec": {
   "display_name": "Python 3",
   "language": "python",
   "name": "python3"
  },
  "language_info": {
   "codemirror_mode": {
    "name": "ipython",
    "version": 3
   },
   "file_extension": ".py",
   "mimetype": "text/x-python",
   "name": "python",
   "nbconvert_exporter": "python",
   "pygments_lexer": "ipython3",
   "version": "3.10.12"
  },
  "orig_nbformat": 4,
  "widgets": {
   "application/vnd.jupyter.widget-state+json": {
    "07dd75dce8a54e158b509b0efde1af08": {
     "model_module": "@jupyter-widgets/controls",
     "model_module_version": "1.5.0",
     "model_name": "DescriptionStyleModel",
     "state": {
      "_model_module": "@jupyter-widgets/controls",
      "_model_module_version": "1.5.0",
      "_model_name": "DescriptionStyleModel",
      "_view_count": null,
      "_view_module": "@jupyter-widgets/base",
      "_view_module_version": "1.2.0",
      "_view_name": "StyleView",
      "description_width": ""
     }
    },
    "0a7329b26b5048dc9b2f4d141dd9004f": {
     "model_module": "@jupyter-widgets/controls",
     "model_module_version": "1.5.0",
     "model_name": "HBoxModel",
     "state": {
      "_dom_classes": [],
      "_model_module": "@jupyter-widgets/controls",
      "_model_module_version": "1.5.0",
      "_model_name": "HBoxModel",
      "_view_count": null,
      "_view_module": "@jupyter-widgets/controls",
      "_view_module_version": "1.5.0",
      "_view_name": "HBoxView",
      "box_style": "",
      "children": [
       "IPY_MODEL_8e1b9f6092f6489abc3afab6e5adb553",
       "IPY_MODEL_cfb106bbd945470a84e276e5d8a4d197",
       "IPY_MODEL_4154b6f2ec194413b95a6b69713f6aec"
      ],
      "layout": "IPY_MODEL_915a3bb4a02343ebb27f30f220473b81"
     }
    },
    "4154b6f2ec194413b95a6b69713f6aec": {
     "model_module": "@jupyter-widgets/controls",
     "model_module_version": "1.5.0",
     "model_name": "HTMLModel",
     "state": {
      "_dom_classes": [],
      "_model_module": "@jupyter-widgets/controls",
      "_model_module_version": "1.5.0",
      "_model_name": "HTMLModel",
      "_view_count": null,
      "_view_module": "@jupyter-widgets/controls",
      "_view_module_version": "1.5.0",
      "_view_name": "HTMLView",
      "description": "",
      "description_tooltip": null,
      "layout": "IPY_MODEL_8f16c190c1d944f6912a10dd87b664f1",
      "placeholder": "​",
      "style": "IPY_MODEL_07dd75dce8a54e158b509b0efde1af08",
      "value": " 73/73 [01:23&lt;00:00,  1.07s/it]"
     }
    },
    "4a41cb8051ef4541baecde31a52ad976": {
     "model_module": "@jupyter-widgets/base",
     "model_module_version": "1.2.0",
     "model_name": "LayoutModel",
     "state": {
      "_model_module": "@jupyter-widgets/base",
      "_model_module_version": "1.2.0",
      "_model_name": "LayoutModel",
      "_view_count": null,
      "_view_module": "@jupyter-widgets/base",
      "_view_module_version": "1.2.0",
      "_view_name": "LayoutView",
      "align_content": null,
      "align_items": null,
      "align_self": null,
      "border": null,
      "bottom": null,
      "display": null,
      "flex": null,
      "flex_flow": null,
      "grid_area": null,
      "grid_auto_columns": null,
      "grid_auto_flow": null,
      "grid_auto_rows": null,
      "grid_column": null,
      "grid_gap": null,
      "grid_row": null,
      "grid_template_areas": null,
      "grid_template_columns": null,
      "grid_template_rows": null,
      "height": null,
      "justify_content": null,
      "justify_items": null,
      "left": null,
      "margin": null,
      "max_height": null,
      "max_width": null,
      "min_height": null,
      "min_width": null,
      "object_fit": null,
      "object_position": null,
      "order": null,
      "overflow": null,
      "overflow_x": null,
      "overflow_y": null,
      "padding": null,
      "right": null,
      "top": null,
      "visibility": null,
      "width": null
     }
    },
    "5acb6c77d285471b9e67d690baeb1733": {
     "model_module": "@jupyter-widgets/controls",
     "model_module_version": "1.5.0",
     "model_name": "DescriptionStyleModel",
     "state": {
      "_model_module": "@jupyter-widgets/controls",
      "_model_module_version": "1.5.0",
      "_model_name": "DescriptionStyleModel",
      "_view_count": null,
      "_view_module": "@jupyter-widgets/base",
      "_view_module_version": "1.2.0",
      "_view_name": "StyleView",
      "description_width": ""
     }
    },
    "76401e2986634534946c20db66c3b242": {
     "model_module": "@jupyter-widgets/controls",
     "model_module_version": "1.5.0",
     "model_name": "ProgressStyleModel",
     "state": {
      "_model_module": "@jupyter-widgets/controls",
      "_model_module_version": "1.5.0",
      "_model_name": "ProgressStyleModel",
      "_view_count": null,
      "_view_module": "@jupyter-widgets/base",
      "_view_module_version": "1.2.0",
      "_view_name": "StyleView",
      "bar_color": null,
      "description_width": ""
     }
    },
    "8e1b9f6092f6489abc3afab6e5adb553": {
     "model_module": "@jupyter-widgets/controls",
     "model_module_version": "1.5.0",
     "model_name": "HTMLModel",
     "state": {
      "_dom_classes": [],
      "_model_module": "@jupyter-widgets/controls",
      "_model_module_version": "1.5.0",
      "_model_name": "HTMLModel",
      "_view_count": null,
      "_view_module": "@jupyter-widgets/controls",
      "_view_module_version": "1.5.0",
      "_view_name": "HTMLView",
      "description": "",
      "description_tooltip": null,
      "layout": "IPY_MODEL_4a41cb8051ef4541baecde31a52ad976",
      "placeholder": "​",
      "style": "IPY_MODEL_5acb6c77d285471b9e67d690baeb1733",
      "value": "100%"
     }
    },
    "8f16c190c1d944f6912a10dd87b664f1": {
     "model_module": "@jupyter-widgets/base",
     "model_module_version": "1.2.0",
     "model_name": "LayoutModel",
     "state": {
      "_model_module": "@jupyter-widgets/base",
      "_model_module_version": "1.2.0",
      "_model_name": "LayoutModel",
      "_view_count": null,
      "_view_module": "@jupyter-widgets/base",
      "_view_module_version": "1.2.0",
      "_view_name": "LayoutView",
      "align_content": null,
      "align_items": null,
      "align_self": null,
      "border": null,
      "bottom": null,
      "display": null,
      "flex": null,
      "flex_flow": null,
      "grid_area": null,
      "grid_auto_columns": null,
      "grid_auto_flow": null,
      "grid_auto_rows": null,
      "grid_column": null,
      "grid_gap": null,
      "grid_row": null,
      "grid_template_areas": null,
      "grid_template_columns": null,
      "grid_template_rows": null,
      "height": null,
      "justify_content": null,
      "justify_items": null,
      "left": null,
      "margin": null,
      "max_height": null,
      "max_width": null,
      "min_height": null,
      "min_width": null,
      "object_fit": null,
      "object_position": null,
      "order": null,
      "overflow": null,
      "overflow_x": null,
      "overflow_y": null,
      "padding": null,
      "right": null,
      "top": null,
      "visibility": null,
      "width": null
     }
    },
    "915a3bb4a02343ebb27f30f220473b81": {
     "model_module": "@jupyter-widgets/base",
     "model_module_version": "1.2.0",
     "model_name": "LayoutModel",
     "state": {
      "_model_module": "@jupyter-widgets/base",
      "_model_module_version": "1.2.0",
      "_model_name": "LayoutModel",
      "_view_count": null,
      "_view_module": "@jupyter-widgets/base",
      "_view_module_version": "1.2.0",
      "_view_name": "LayoutView",
      "align_content": null,
      "align_items": null,
      "align_self": null,
      "border": null,
      "bottom": null,
      "display": null,
      "flex": null,
      "flex_flow": null,
      "grid_area": null,
      "grid_auto_columns": null,
      "grid_auto_flow": null,
      "grid_auto_rows": null,
      "grid_column": null,
      "grid_gap": null,
      "grid_row": null,
      "grid_template_areas": null,
      "grid_template_columns": null,
      "grid_template_rows": null,
      "height": null,
      "justify_content": null,
      "justify_items": null,
      "left": null,
      "margin": null,
      "max_height": null,
      "max_width": null,
      "min_height": null,
      "min_width": null,
      "object_fit": null,
      "object_position": null,
      "order": null,
      "overflow": null,
      "overflow_x": null,
      "overflow_y": null,
      "padding": null,
      "right": null,
      "top": null,
      "visibility": null,
      "width": null
     }
    },
    "cfb106bbd945470a84e276e5d8a4d197": {
     "model_module": "@jupyter-widgets/controls",
     "model_module_version": "1.5.0",
     "model_name": "FloatProgressModel",
     "state": {
      "_dom_classes": [],
      "_model_module": "@jupyter-widgets/controls",
      "_model_module_version": "1.5.0",
      "_model_name": "FloatProgressModel",
      "_view_count": null,
      "_view_module": "@jupyter-widgets/controls",
      "_view_module_version": "1.5.0",
      "_view_name": "ProgressView",
      "bar_style": "success",
      "description": "",
      "description_tooltip": null,
      "layout": "IPY_MODEL_d4de02d03093463e93f8f67fbd68428b",
      "max": 73,
      "min": 0,
      "orientation": "horizontal",
      "style": "IPY_MODEL_76401e2986634534946c20db66c3b242",
      "value": 73
     }
    },
    "d4de02d03093463e93f8f67fbd68428b": {
     "model_module": "@jupyter-widgets/base",
     "model_module_version": "1.2.0",
     "model_name": "LayoutModel",
     "state": {
      "_model_module": "@jupyter-widgets/base",
      "_model_module_version": "1.2.0",
      "_model_name": "LayoutModel",
      "_view_count": null,
      "_view_module": "@jupyter-widgets/base",
      "_view_module_version": "1.2.0",
      "_view_name": "LayoutView",
      "align_content": null,
      "align_items": null,
      "align_self": null,
      "border": null,
      "bottom": null,
      "display": null,
      "flex": null,
      "flex_flow": null,
      "grid_area": null,
      "grid_auto_columns": null,
      "grid_auto_flow": null,
      "grid_auto_rows": null,
      "grid_column": null,
      "grid_gap": null,
      "grid_row": null,
      "grid_template_areas": null,
      "grid_template_columns": null,
      "grid_template_rows": null,
      "height": null,
      "justify_content": null,
      "justify_items": null,
      "left": null,
      "margin": null,
      "max_height": null,
      "max_width": null,
      "min_height": null,
      "min_width": null,
      "object_fit": null,
      "object_position": null,
      "order": null,
      "overflow": null,
      "overflow_x": null,
      "overflow_y": null,
      "padding": null,
      "right": null,
      "top": null,
      "visibility": null,
      "width": null
     }
    }
   }
  }
 },
 "nbformat": 4,
 "nbformat_minor": 0
}

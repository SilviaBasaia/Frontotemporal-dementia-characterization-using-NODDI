{
 "cells": [
  {
   "cell_type": "markdown",
   "metadata": {},
   "source": [
    "Classification of diagnostic groups using SVM with and without\n",
    "sequential feature selection.\n",
    "\n",
    "This script provides two pipelines applied to different permutations of input features:\n",
    "1. A baseline pipeline with all features.\n",
    "2. A pipeline with feature selection using SequentialFeatureSelector."
   ]
  },
  {
   "cell_type": "code",
   "execution_count": null,
   "metadata": {
    "id": "iI0meP1BtMUe"
   },
   "outputs": [],
   "source": [
    "# Imports\n",
    "\n",
    "import pandas as pd\n",
    "import numpy as np\n",
    "\n",
    "from sklearn.preprocessing import StandardScaler\n",
    "from sklearn.svm import LinearSVC\n",
    "from sklearn.model_selection import LeaveOneOut, cross_val_score, cross_val_predict\n",
    "from sklearn.feature_selection import SequentialFeatureSelector\n",
    "from sklearn.metrics import classification_report"
   ]
  },
  {
   "cell_type": "code",
   "execution_count": null,
   "metadata": {
    "id": "L7y2r8V9tMUf"
   },
   "outputs": [],
   "source": [
    "# Load data\n",
    "\n",
    "# Path to the Excel file (update before running)\n",
    "path_to_excel_file = \"path/to/data.xlsx\"\n",
    "\n",
    "# Read dataset\n",
    "df = pd.read_excel(path_to_excel_file)\n",
    "\n",
    "# Keep only groups of interest (diagnostic classes)\n",
    "df = df[df[\"Group\"].isin([2, 3, 4, 5])]"
   ]
  },
  {
   "cell_type": "code",
   "execution_count": null,
   "metadata": {},
   "outputs": [],
   "source": [
    "# Define features and labels\n",
    "\n",
    "# Labels (diagnostic groups)\n",
    "y = df[\"Group\"].to_numpy()\n",
    "\n",
    "# Replace the list below with the actual feature names from your dataset\n",
    "feature_list = [\"list\", \"of\", \"all\", \"the\", \"features\", \"of\", \"interest\"]\n",
    "\n",
    "# Features\n",
    "X = df[feature_list]"
   ]
  },
  {
   "cell_type": "code",
   "execution_count": null,
   "metadata": {
    "id": "AmfUg2QAtMUg"
   },
   "outputs": [],
   "source": [
    "# Model and cross-validation setup\n",
    "\n",
    "scaler = StandardScaler()\n",
    "model = LinearSVC(C=0.25)\n",
    "cv = LeaveOneOut()"
   ]
  },
  {
   "cell_type": "markdown",
   "metadata": {},
   "source": [
    "### Pipeline 1: Baseline (all features, no selection)\n"
   ]
  },
  {
   "cell_type": "code",
   "execution_count": null,
   "metadata": {
    "id": "UYEEtYH4tMUi",
    "outputId": "10fb03a7-dde5-4177-ac76-39bc72b249da"
   },
   "outputs": [],
   "source": [
    "# Scale features\n",
    "X_scaled = scaler.fit_transform(X)\n",
    "\n",
    "# Evaluate model with LOOCV\n",
    "scores = cross_val_score(model, X_scaled, y, scoring=\"accuracy\", cv=cv, n_jobs=-1)\n",
    "print(f\"Accuracy: {np.mean(scores):.3f} ± {np.std(scores):.3f}\")\n",
    "\n",
    "# Predictions for classification report\n",
    "y_pred = cross_val_predict(model, X_scaled, y, cv=cv, n_jobs=-1)\n",
    "\n",
    "# Print per-class precision, recall, F1-score\n",
    "target_names = [\"2\", \"3\", \"4\", \"5\"]\n",
    "print(classification_report(y, y_pred, target_names=target_names, digits=3))"
   ]
  },
  {
   "cell_type": "markdown",
   "metadata": {
    "id": "kap9rBhttMUi"
   },
   "source": [
    "### Pipeline 2: Sequential Feature Selection"
   ]
  },
  {
   "cell_type": "code",
   "execution_count": null,
   "metadata": {
    "id": "RCdv3xqjtMUj",
    "outputId": "86b9093c-f455-4a9c-b5ac-8c15f4b47851"
   },
   "outputs": [],
   "source": [
    "# Feature selector (backward elimination, accuracy criterion)\n",
    "selector = SequentialFeatureSelector(\n",
    "    model,\n",
    "    n_features_to_select=\"auto\",\n",
    "    direction=\"backward\",\n",
    "    scoring=\"accuracy\",\n",
    "    cv=cv,\n",
    "    n_jobs=-1,\n",
    "    tol=0,\n",
    ")\n",
    "\n",
    "# Scale features\n",
    "X_scaled = scaler.fit_transform(X)\n",
    "\n",
    "# Fit feature selector\n",
    "selector.fit(X_scaled, y)\n",
    "\n",
    "# Get selected features\n",
    "selected_mask = selector.get_support(indices=True)\n",
    "selected_features = X.columns[selected_mask]\n",
    "print(\"Features selected:\")\n",
    "print(list(selected_features))\n",
    "\n",
    "# Transform dataset to keep only selected features\n",
    "X_selected = X[selected_features]\n",
    "X_scaled = scaler.fit_transform(X_selected)\n",
    "\n",
    "# Evaluate model with LOOCV\n",
    "scores = cross_val_score(model, X_scaled, y, scoring=\"accuracy\", cv=cv, n_jobs=-1)\n",
    "print(f\"Accuracy: {np.mean(scores):.3f} ± {np.std(scores):.3f}\")\n",
    "\n",
    "# Predictions for classification report\n",
    "y_pred = cross_val_predict(model, X_scaled, y, cv=cv, n_jobs=-1)\n",
    "print(classification_report(y, y_pred, target_names=target_names, digits=3))"
   ]
  }
 ],
 "metadata": {
  "colab": {
   "provenance": []
  },
  "kernelspec": {
   "display_name": "Python 3",
   "language": "python",
   "name": "python3"
  },
  "language_info": {
   "codemirror_mode": {
    "name": "ipython",
    "version": 3
   },
   "file_extension": ".py",
   "mimetype": "text/x-python",
   "name": "python",
   "nbconvert_exporter": "python",
   "pygments_lexer": "ipython3",
   "version": "3.10.12"
  },
  "orig_nbformat": 4
 },
 "nbformat": 4,
 "nbformat_minor": 0
}
